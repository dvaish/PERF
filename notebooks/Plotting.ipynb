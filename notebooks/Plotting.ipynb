{
 "cells": [
  {
   "cell_type": "code",
   "execution_count": null,
   "id": "a1ad80a7-3a3f-48b2-ae5b-75b8e012ea65",
   "metadata": {},
   "outputs": [],
   "source": [
    "from pathlib import Path\n",
    "import numpy as np\n",
    "import pandas as pd\n",
    "import matplotlib.pyplot as plt\n",
    "import matplotlib as mpl\n",
    "mpl.rcParams['figure.dpi'] = 200\n",
    "\n",
    "import tidalsim.modeling.extrapolation as tme\n",
    "\n",
    "import importlib\n",
    "importlib.reload(tme)"
   ]
  },
  {
   "cell_type": "code",
   "execution_count": null,
   "id": "f3c8f574-0264-443d-bc0f-b453c4939d6a",
   "metadata": {},
   "outputs": [],
   "source": [
    "def get_run_dir(binary: str) -> Path:\n",
    "    return Path.cwd().parent / \"runs\" / binary\n",
    "\n",
    "interval_length = 1000\n",
    "clusters = 12\n",
    "run_dir = get_run_dir(\"\") # TODO: Enter run_dir here\n",
    "perf_data_tidalsim = tme.analyze_tidalsim_results(run_dir, interval_length, clusters, elf=True)\n",
    "perf_data_tidalsim"
   ]
  },
  {
   "cell_type": "code",
   "execution_count": null,
   "id": "37e2d161-03a0-49cd-9a0e-66d96b64f356",
   "metadata": {},
   "outputs": [],
   "source": [
    "perf_data_reference = tme.parse_reference_perf(Path.cwd().parent.parent.parent / \"sims\" / \"vcs\" / \"\", interval_length) # TODO: Enter perf.csv name here\n",
    "perf_data_reference"
   ]
  },
  {
   "cell_type": "code",
   "execution_count": null,
   "id": "e8168123-dbca-496f-b427-44658a253b70",
   "metadata": {},
   "outputs": [],
   "source": [
    "plt.plot(perf_data_tidalsim['inst_count'], perf_data_tidalsim['ipc'], 'b')\n",
    "plt.plot(perf_data_reference['inst_count'], perf_data_reference['ipc'], 'g')\n",
    "plt.xlabel('Instructions')\n",
    "plt.ylabel('IPC')\n",
    "plt.xlim([0.5e6,0.6e6])\n",
    "plt.ylim([0.6, 0.9])\n",
    "plt.legend(['Estimated IPC (Tidalsim)', 'Real IPC (Full RTL Sim)'])\n",
    "fig = plt.gcf()\n",
    "fig.set_size_inches(13, 5)\n",
    "plt.savefig('ipc.png', dpi=300)"
   ]
  },
  {
   "cell_type": "code",
   "execution_count": null,
   "metadata": {},
   "outputs": [],
   "source": [
    "perf_data_tidalsim_elf = tme.analyze_tidalsim_results(run_dir, interval_length, clusters, elf=True)\n",
    "perf_data_tidalsim_elf"
   ]
  },
  {
   "cell_type": "code",
   "execution_count": null,
   "metadata": {},
   "outputs": [],
   "source": [
    "perf_data_tidalsim_spike = tme.analyze_tidalsim_results(run_dir, interval_length, clusters, elf=False)\n",
    "perf_data_tidalsim_spike"
   ]
  },
  {
   "cell_type": "code",
   "execution_count": null,
   "metadata": {},
   "outputs": [],
   "source": [
    "compare_data = perf_data_tidalsim_spike.compare(perf_data_tidalsim_elf)\n",
    "compare_data"
   ]
  }
 ],
 "metadata": {
  "kernelspec": {
   "display_name": "Python 3 (ipykernel)",
   "language": "python",
   "name": "python3"
  },
  "language_info": {
   "codemirror_mode": {
    "name": "ipython",
    "version": 3
   },
   "file_extension": ".py",
   "mimetype": "text/x-python",
   "name": "python",
   "nbconvert_exporter": "python",
   "pygments_lexer": "ipython3",
   "version": "3.10.12"
  }
 },
 "nbformat": 4,
 "nbformat_minor": 5
}
