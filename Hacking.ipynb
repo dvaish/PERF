{
 "cells": [
  {
   "cell_type": "code",
   "execution_count": 20,
   "id": "a1ad80a7-3a3f-48b2-ae5b-75b8e012ea65",
   "metadata": {},
   "outputs": [],
   "source": [
    "from sklearn.preprocessing import normalize\n",
    "from sklearn.cluster import KMeans\n",
    "from pathlib import Path\n",
    "import pickle\n",
    "import matplotlib.pyplot as plt\n",
    "import numpy as np\n",
    "import pandas as pd"
   ]
  },
  {
   "cell_type": "code",
   "execution_count": 21,
   "id": "23f476b7-af4d-4137-9a2b-11638dc743ce",
   "metadata": {},
   "outputs": [
    {
     "name": "stdout",
     "output_type": "stream",
     "text": [
      "(1925, 93)\n"
     ]
    }
   ],
   "source": [
    "matrix_file = Path.cwd() / \"runs\" / \"aha-mont64-fb8c96bc\" / \"n_1000\" / \"bbv.matrix\"\n",
    "with matrix_file.open('rb') as f:\n",
    "    matrix = pickle.load(f)\n",
    "matrix = normalize(matrix)\n",
    "print(matrix.shape)"
   ]
  },
  {
   "cell_type": "code",
   "execution_count": 22,
   "id": "44290d7c-8d43-4efa-9354-0866a430bf08",
   "metadata": {},
   "outputs": [
    {
     "data": {
      "text/plain": [
       "<matplotlib.image.AxesImage at 0x7f881e7a7ee0>"
      ]
     },
     "execution_count": 22,
     "metadata": {},
     "output_type": "execute_result"
    },
    {
     "data": {
      "image/png": "[encoded data removed]",
      "text/plain": [
       "<Figure size 640x480 with 1 Axes>"
      ]
     },
     "metadata": {},
     "output_type": "display_data"
    }
   ],
   "source": [
    "# Show a heatmap\n",
    "plt.imshow(matrix[:200,17:50], cmap='hot', interpolation='nearest')"
   ]
  },
  {
   "cell_type": "code",
   "execution_count": 23,
   "id": "504ed0b9-e229-4fcc-8748-e3b0c5bea44b",
   "metadata": {},
   "outputs": [
    {
     "name": "stdout",
     "output_type": "stream",
     "text": [
      "Initialization complete\n",
      "Iteration 0, inertia 107.2293473385345.\n",
      "Iteration 1, inertia 95.30355038994216.\n",
      "Iteration 2, inertia 93.59243128822773.\n",
      "Iteration 3, inertia 92.27171097158853.\n",
      "Iteration 4, inertia 91.32981282703244.\n",
      "Iteration 5, inertia 90.70656463026612.\n",
      "Iteration 6, inertia 90.11903242729987.\n",
      "Iteration 7, inertia 89.74339173753714.\n",
      "Iteration 8, inertia 89.36451055464146.\n",
      "Iteration 9, inertia 89.17685592816663.\n",
      "Iteration 10, inertia 88.99632655614485.\n",
      "Iteration 11, inertia 88.81149015535689.\n",
      "Iteration 12, inertia 88.67060860223256.\n",
      "Iteration 13, inertia 88.59863076544545.\n",
      "Iteration 14, inertia 88.53586949652195.\n",
      "Iteration 15, inertia 88.47145355369052.\n",
      "Iteration 16, inertia 88.43608474103111.\n",
      "Iteration 17, inertia 88.39462741211733.\n",
      "Iteration 18, inertia 88.37128956046547.\n",
      "Iteration 19, inertia 88.35074030463406.\n",
      "Iteration 20, inertia 88.33617564813933.\n",
      "Iteration 21, inertia 88.32479550924718.\n",
      "Converged at iteration 21: strict convergence.\n"
     ]
    },
    {
     "data": {
      "text/html": [
       "<style>#sk-container-id-3 {color: black;}#sk-container-id-3 pre{padding: 0;}#sk-container-id-3 div.sk-toggleable {background-color: white;}#sk-container-id-3 label.sk-toggleable__label {cursor: pointer;display: block;width: 100%;margin-bottom: 0;padding: 0.3em;box-sizing: border-box;text-align: center;}#sk-container-id-3 label.sk-toggleable__label-arrow:before {content: \"▸\";float: left;margin-right: 0.25em;color: #696969;}#sk-container-id-3 label.sk-toggleable__label-arrow:hover:before {color: black;}#sk-container-id-3 div.sk-estimator:hover label.sk-toggleable__label-arrow:before {color: black;}#sk-container-id-3 div.sk-toggleable__content {max-height: 0;max-width: 0;overflow: hidden;text-align: left;background-color: #f0f8ff;}#sk-container-id-3 div.sk-toggleable__content pre {margin: 0.2em;color: black;border-radius: 0.25em;background-color: #f0f8ff;}#sk-container-id-3 input.sk-toggleable__control:checked~div.sk-toggleable__content {max-height: 200px;max-width: 100%;overflow: auto;}#sk-container-id-3 input.sk-toggleable__control:checked~label.sk-toggleable__label-arrow:before {content: \"▾\";}#sk-container-id-3 div.sk-estimator input.sk-toggleable__control:checked~label.sk-toggleable__label {background-color: #d4ebff;}#sk-container-id-3 div.sk-label input.sk-toggleable__control:checked~label.sk-toggleable__label {background-color: #d4ebff;}#sk-container-id-3 input.sk-hidden--visually {border: 0;clip: rect(1px 1px 1px 1px);clip: rect(1px, 1px, 1px, 1px);height: 1px;margin: -1px;overflow: hidden;padding: 0;position: absolute;width: 1px;}#sk-container-id-3 div.sk-estimator {font-family: monospace;background-color: #f0f8ff;border: 1px dotted black;border-radius: 0.25em;box-sizing: border-box;margin-bottom: 0.5em;}#sk-container-id-3 div.sk-estimator:hover {background-color: #d4ebff;}#sk-container-id-3 div.sk-parallel-item::after {content: \"\";width: 100%;border-bottom: 1px solid gray;flex-grow: 1;}#sk-container-id-3 div.sk-label:hover label.sk-toggleable__label {background-color: #d4ebff;}#sk-container-id-3 div.sk-serial::before {content: \"\";position: absolute;border-left: 1px solid gray;box-sizing: border-box;top: 0;bottom: 0;left: 50%;z-index: 0;}#sk-container-id-3 div.sk-serial {display: flex;flex-direction: column;align-items: center;background-color: white;padding-right: 0.2em;padding-left: 0.2em;position: relative;}#sk-container-id-3 div.sk-item {position: relative;z-index: 1;}#sk-container-id-3 div.sk-parallel {display: flex;align-items: stretch;justify-content: center;background-color: white;position: relative;}#sk-container-id-3 div.sk-item::before, #sk-container-id-3 div.sk-parallel-item::before {content: \"\";position: absolute;border-left: 1px solid gray;box-sizing: border-box;top: 0;bottom: 0;left: 50%;z-index: -1;}#sk-container-id-3 div.sk-parallel-item {display: flex;flex-direction: column;z-index: 1;position: relative;background-color: white;}#sk-container-id-3 div.sk-parallel-item:first-child::after {align-self: flex-end;width: 50%;}#sk-container-id-3 div.sk-parallel-item:last-child::after {align-self: flex-start;width: 50%;}#sk-container-id-3 div.sk-parallel-item:only-child::after {width: 0;}#sk-container-id-3 div.sk-dashed-wrapped {border: 1px dashed gray;margin: 0 0.4em 0.5em 0.4em;box-sizing: border-box;padding-bottom: 0.4em;background-color: white;}#sk-container-id-3 div.sk-label label {font-family: monospace;font-weight: bold;display: inline-block;line-height: 1.2em;}#sk-container-id-3 div.sk-label-container {text-align: center;}#sk-container-id-3 div.sk-container {/* jupyter's `normalize.less` sets `[hidden] { display: none; }` but bootstrap.min.css set `[hidden] { display: none !important; }` so we also need the `!important` here to be able to override the default hidden behavior on the sphinx rendered scikit-learn.org. See: https://github.com/scikit-learn/scikit-learn/issues/21755 */display: inline-block !important;position: relative;}#sk-container-id-3 div.sk-text-repr-fallback {display: none;}</style><div id=\"sk-container-id-3\" class=\"sk-top-container\"><div class=\"sk-text-repr-fallback\"><pre>KMeans(n_clusters=12, n_init=&#x27;auto&#x27;, random_state=100, verbose=100)</pre><b>In a Jupyter environment, please rerun this cell to show the HTML representation or trust the notebook. <br />On GitHub, the HTML representation is unable to render, please try loading this page with nbviewer.org.</b></div><div class=\"sk-container\" hidden><div class=\"sk-item\"><div class=\"sk-estimator sk-toggleable\"><input class=\"sk-toggleable__control sk-hidden--visually\" id=\"sk-estimator-id-3\" type=\"checkbox\" checked><label for=\"sk-estimator-id-3\" class=\"sk-toggleable__label sk-toggleable__label-arrow\">KMeans</label><div class=\"sk-toggleable__content\"><pre>KMeans(n_clusters=12, n_init=&#x27;auto&#x27;, random_state=100, verbose=100)</pre></div></div></div></div></div>"
      ],
      "text/plain": [
       "KMeans(n_clusters=12, n_init='auto', random_state=100, verbose=100)"
      ]
     },
     "execution_count": 23,
     "metadata": {},
     "output_type": "execute_result"
    }
   ],
   "source": [
    "# Perform clustering\n",
    "kmeans = KMeans(n_clusters=12, n_init='auto', verbose=100, random_state=100)\n",
    "kmeans.fit(matrix)"
   ]
  },
  {
   "cell_type": "code",
   "execution_count": 24,
   "id": "0accfe4e-7cc4-42a4-901d-0f2373cda0d5",
   "metadata": {},
   "outputs": [
    {
     "name": "stdout",
     "output_type": "stream",
     "text": [
      "(12, 93) (1925,)\n"
     ]
    }
   ],
   "source": [
    "centroids = kmeans.cluster_centers_\n",
    "labels = kmeans.labels_\n",
    "print(centroids.shape, labels.shape)"
   ]
  },
  {
   "cell_type": "code",
   "execution_count": 25,
   "id": "3801049c-8670-48b8-996d-b85221164a6f",
   "metadata": {},
   "outputs": [],
   "source": [
    "sample_idxs = []\n",
    "for label_idx in range(centroids.shape[0]):\n",
    "    sample_idxes_near_cluster = np.argwhere(labels == label_idx).flatten()\n",
    "    samples_near_cluster = matrix[sample_idxes_near_cluster,:]\n",
    "    dists_from_centroid = np.linalg.norm(np.subtract(samples_near_cluster, centroids[label_idx]), axis=1)\n",
    "    closest_sample_idx = np.argmin(dists_from_centroid)\n",
    "    matrix_sample_idx = sample_idxes_near_cluster[closest_sample_idx]\n",
    "    sample_idxs.append(matrix_sample_idx)"
   ]
  },
  {
   "cell_type": "code",
   "execution_count": 26,
   "id": "afcaaef8-8744-46a3-9b82-69b6452ad025",
   "metadata": {},
   "outputs": [],
   "source": [
    "# Attempt to reconstruct IPC trace\n",
    "gold_ipc_file = Path.cwd().parent.parent / \"sims\" / \"vcs\" / \"ref_perf.csv\"\n",
    "gold_ipc = pd.read_csv(gold_ipc_file)\n",
    "kmeans_model_file = Path.cwd() / \"runs\" / \"aha-mont64-fb8c96bc\" / \"n_1000\" / \"c_12\" / \"kmeans.model\"\n",
    "with kmeans_model_file.open('rb') as f:\n",
    "    kmeans_model = pickle.load(f)"
   ]
  },
  {
   "cell_type": "code",
   "execution_count": 66,
   "id": "e3d6bf46-cc46-4b47-82df-d780e11bbdad",
   "metadata": {},
   "outputs": [],
   "source": [
    "# For every centroid sample, get the average IPC, excluding the first sample (consider the first 100 cycles as detailed warmup)\n",
    "perf_files = [Path.cwd() / \"runs\" / \"aha-mont64-fb8c96bc\" / \"n_1000\" / \"c_12\" / \"checkpoints\" / \"aha-mont64.loadarch\" / f\"0x80000000.{x*1000}\" / \"perf.csv\" for x in sample_idxs]\n",
    "sample_ipc_trace = []\n",
    "for perf_file in perf_files:\n",
    "    ipc_trace = pd.read_csv(perf_file)\n",
    "    assert (ipc_trace['instret'].to_numpy()[:-1] == 100).all()\n",
    "    sample_ipc_trace.append(100 / np.mean(ipc_trace['cycles'][1:-1]))"
   ]
  },
  {
   "cell_type": "code",
   "execution_count": 67,
   "id": "30499d1d-8ea4-4c5e-8210-c2b8255ed1f9",
   "metadata": {},
   "outputs": [],
   "source": [
    "# Reconstruct the IPC trace from the labels for each sample\n",
    "x_coords = []\n",
    "y_coords = []\n",
    "i = 0\n",
    "for label in labels:\n",
    "    x_coords.append(i)\n",
    "    ipc = sample_ipc_trace[label]\n",
    "    y_coords.append(ipc)\n",
    "    x_coords.append(i+1000-1)\n",
    "    y_coords.append(ipc)\n",
    "    i = i + 1000"
   ]
  },
  {
   "cell_type": "code",
   "execution_count": 68,
   "id": "e0855e42-1619-4070-a6a7-a5a01613e9fa",
   "metadata": {},
   "outputs": [],
   "source": [
    "gold_x = []\n",
    "gold_y = []\n",
    "i = 0\n",
    "for cycles in gold_ipc['cycles']:\n",
    "    gold_x.append(i)\n",
    "    gold_y.append(1000 / cycles)\n",
    "    gold_x.append(i+1000-1)\n",
    "    gold_y.append(1000 / cycles)\n",
    "    i = i + 1000"
   ]
  },
  {
   "cell_type": "code",
   "execution_count": 69,
   "id": "ddb8e822-398f-44fb-b5ad-12f06cdc8df7",
   "metadata": {},
   "outputs": [
    {
     "data": {
      "text/html": [
       "<div>\n",
       "<style scoped>\n",
       "    .dataframe tbody tr th:only-of-type {\n",
       "        vertical-align: middle;\n",
       "    }\n",
       "\n",
       "    .dataframe tbody tr th {\n",
       "        vertical-align: top;\n",
       "    }\n",
       "\n",
       "    .dataframe thead th {\n",
       "        text-align: right;\n",
       "    }\n",
       "</style>\n",
       "<table border=\"1\" class=\"dataframe\">\n",
       "  <thead>\n",
       "    <tr style=\"text-align: right;\">\n",
       "      <th></th>\n",
       "      <th>cycles</th>\n",
       "      <th>instret</th>\n",
       "    </tr>\n",
       "  </thead>\n",
       "  <tbody>\n",
       "    <tr>\n",
       "      <th>0</th>\n",
       "      <td>5490</td>\n",
       "      <td>1000</td>\n",
       "    </tr>\n",
       "    <tr>\n",
       "      <th>1</th>\n",
       "      <td>1186</td>\n",
       "      <td>1000</td>\n",
       "    </tr>\n",
       "    <tr>\n",
       "      <th>2</th>\n",
       "      <td>1386</td>\n",
       "      <td>1000</td>\n",
       "    </tr>\n",
       "    <tr>\n",
       "      <th>3</th>\n",
       "      <td>1342</td>\n",
       "      <td>1000</td>\n",
       "    </tr>\n",
       "    <tr>\n",
       "      <th>4</th>\n",
       "      <td>1176</td>\n",
       "      <td>1000</td>\n",
       "    </tr>\n",
       "    <tr>\n",
       "      <th>...</th>\n",
       "      <td>...</td>\n",
       "      <td>...</td>\n",
       "    </tr>\n",
       "    <tr>\n",
       "      <th>3835</th>\n",
       "      <td>1170</td>\n",
       "      <td>1000</td>\n",
       "    </tr>\n",
       "    <tr>\n",
       "      <th>3836</th>\n",
       "      <td>1242</td>\n",
       "      <td>1000</td>\n",
       "    </tr>\n",
       "    <tr>\n",
       "      <th>3837</th>\n",
       "      <td>1154</td>\n",
       "      <td>1000</td>\n",
       "    </tr>\n",
       "    <tr>\n",
       "      <th>3838</th>\n",
       "      <td>1216</td>\n",
       "      <td>1000</td>\n",
       "    </tr>\n",
       "    <tr>\n",
       "      <th>3839</th>\n",
       "      <td>1488</td>\n",
       "      <td>1000</td>\n",
       "    </tr>\n",
       "  </tbody>\n",
       "</table>\n",
       "<p>3840 rows × 2 columns</p>\n",
       "</div>"
      ],
      "text/plain": [
       "      cycles  instret\n",
       "0       5490     1000\n",
       "1       1186     1000\n",
       "2       1386     1000\n",
       "3       1342     1000\n",
       "4       1176     1000\n",
       "...      ...      ...\n",
       "3835    1170     1000\n",
       "3836    1242     1000\n",
       "3837    1154     1000\n",
       "3838    1216     1000\n",
       "3839    1488     1000\n",
       "\n",
       "[3840 rows x 2 columns]"
      ]
     },
     "execution_count": 69,
     "metadata": {},
     "output_type": "execute_result"
    }
   ],
   "source": [
    "gold_ipc"
   ]
  },
  {
   "cell_type": "code",
   "execution_count": 70,
   "id": "202cbe4b-a3d1-4330-ac66-c221da27ad90",
   "metadata": {},
   "outputs": [
    {
     "data": {
      "text/plain": [
       "(500000.0, 600000.0, 0.4, 1.0)"
      ]
     },
     "execution_count": 70,
     "metadata": {},
     "output_type": "execute_result"
    },
    {
     "data": {
      "image/png": "[encoded data removed]",
      "text/plain": [
       "<Figure size 640x480 with 1 Axes>"
      ]
     },
     "metadata": {},
     "output_type": "display_data"
    }
   ],
   "source": [
    "plt.plot(x_coords, y_coords, 'b')\n",
    "plt.plot(gold_x, gold_y, 'g')\n",
    "plt.axis([0.5e6, 0.6e6, 0.4, 1])"
   ]
  },
  {
   "cell_type": "code",
   "execution_count": null,
   "id": "4c9fcda4-c074-4a6f-b00d-7166ad256a0b",
   "metadata": {},
   "outputs": [],
   "source": []
  },
  {
   "cell_type": "code",
   "execution_count": null,
   "id": "55baac69-aabb-4ec8-9c27-00b13b3d90eb",
   "metadata": {},
   "outputs": [],
   "source": []
  }
 ],
 "metadata": {
  "kernelspec": {
   "display_name": "Python 3 (ipykernel)",
   "language": "python",
   "name": "python3"
  },
  "language_info": {
   "codemirror_mode": {
    "name": "ipython",
    "version": 3
   },
   "file_extension": ".py",
   "mimetype": "text/x-python",
   "name": "python",
   "nbconvert_exporter": "python",
   "pygments_lexer": "ipython3",
   "version": "3.10.12"
  }
 },
 "nbformat": 4,
 "nbformat_minor": 5
}
