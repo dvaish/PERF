{
 "cells": [
  {
   "cell_type": "code",
   "execution_count": 1,
   "id": "af36860d",
   "metadata": {},
   "outputs": [],
   "source": [
    "from intervaltree import IntervalTree, Interval\n",
    "from tqdm import tqdm\n",
    "import logging\n",
    "import re\n",
    "import numpy as np\n",
    "from sklearn.decomposition import PCA\n",
    "import matplotlib.pyplot as plt"
   ]
  },
  {
   "cell_type": "code",
   "execution_count": 2,
   "id": "d7176e35",
   "metadata": {},
   "outputs": [],
   "source": [
    "# Regex patterns to extract instructions or symbols from Spike dump\n",
    "instruction_pattern = re.compile(r\"core\\s*\\d: 0x(?P<pc>\\w+) \\((?P<inst>\\w+)\\)\")\n",
    "name_pattern = re.compile(r\"core\\s*\\d:\\s*>>>>\\s*(?P<name>\\w+)\")"
   ]
  },
  {
   "cell_type": "code",
   "execution_count": 3,
   "id": "af918a1a",
   "metadata": {},
   "outputs": [],
   "source": [
    "# Pass in Spike dump here. We read in and then parse every line\n",
    "file = \"aha-mont64.log\"\n",
    "with open(file) as f:\n",
    "    lines = f.readlines()"
   ]
  },
  {
   "cell_type": "code",
   "execution_count": 4,
   "id": "dcf713b1",
   "metadata": {},
   "outputs": [
    {
     "name": "stderr",
     "output_type": "stream",
     "text": [
      "100%|████████████████████████████| 2228206/2228206 [00:01<00:00, 1317615.37it/s]\n"
     ]
    }
   ],
   "source": [
    "# Make initial pass through the Spike dump\n",
    "# A new interval is recorded when the PC changes by more than 4\n",
    "# The end of the previous Interval is the PC that was jumped from\n",
    "# The start of the next Interval is the PC that was jumped to\n",
    "# No data is stored, speeds up the lookup significantly\n",
    "start = None\n",
    "previous = None\n",
    "intervals = IntervalTree()\n",
    "for line in tqdm(lines):\n",
    "    if instruction := instruction_pattern.match(line):\n",
    "        pc = int(instruction.group(\"pc\"), 16)\n",
    "        if not start:\n",
    "            start = pc\n",
    "        if previous and (abs(pc - previous) > 4):\n",
    "            intervals[start:previous + 4] = None\n",
    "            start = pc\n",
    "        previous = pc\n",
    "\n",
    "# Ensures that PCs have a one-to-one mapping to an interval\n",
    "intervals.merge_equals()\n",
    "intervals.split_overlaps()"
   ]
  },
  {
   "cell_type": "code",
   "execution_count": 5,
   "id": "077e842e",
   "metadata": {},
   "outputs": [],
   "source": [
    "# Assign each interval an index in the BBV vector\n",
    "# Easier to just instantiate a new tree for lookup later\n",
    "id = 0\n",
    "unique_intervals = IntervalTree()\n",
    "for interval in intervals:\n",
    "    unique_intervals.addi(interval.begin, interval.end, id)\n",
    "    id += 1"
   ]
  },
  {
   "cell_type": "code",
   "execution_count": 13,
   "id": "733bd2c4",
   "metadata": {},
   "outputs": [
    {
     "name": "stderr",
     "output_type": "stream",
     "text": [
      "2228206it [00:10, 214301.33it/s]\n"
     ]
    }
   ],
   "source": [
    "# Compute the BBV\n",
    "# Dynamically pass k or a list of k's specifying the interval length\n",
    "N = len(lines)\n",
    "ks = range(100, 1000, 100)\n",
    "\n",
    "# Make a second pass through and compute the BBV for each interval for each k\n",
    "# BBV shape is (basic block, interval) meaning the basic block vector is in the columns\n",
    "bbvs = [np.zeros((len(intervals), N // k + 1)) for k in ks]\n",
    "for (i, line) in tqdm(enumerate(lines)):\n",
    "        if instruction := instruction_pattern.match(line):\n",
    "            pc = int(instruction.group(\"pc\"), 16)\n",
    "            (interval,) = unique_intervals[pc]\n",
    "            for (j, k) in enumerate(ks):\n",
    "                bbvs[j][interval.data, i // k] += 1"
   ]
  },
  {
   "cell_type": "code",
   "execution_count": 14,
   "id": "63b3cf0f",
   "metadata": {},
   "outputs": [
    {
     "data": {
      "text/plain": [
       "[<matplotlib.lines.Line2D at 0x15fcf37d0>]"
      ]
     },
     "execution_count": 14,
     "metadata": {},
     "output_type": "execute_result"
    },
    {
     "data": {
      "image/png": "[encoded data removed]",
      "text/plain": [
       "<Figure size 640x480 with 1 Axes>"
      ]
     },
     "metadata": {},
     "output_type": "display_data"
    }
   ],
   "source": [
    "dimensionalities = np.array([])\n",
    "for bbv in tqdm(bbvs):\n",
    "    pca = PCA(n_components=\"mle\")\n",
    "    result = pca.fit(bbv.T)\n",
    "    dimensionalities = np.append(dimensionalities, result.n_components_)\n",
    "\n",
    "plt.plot(ks, dimensionalities)"
   ]
  }
 ],
 "metadata": {
  "kernelspec": {
   "display_name": "Python 3 (ipykernel)",
   "language": "python",
   "name": "python3"
  },
  "language_info": {
   "codemirror_mode": {
    "name": "ipython",
    "version": 3
   },
   "file_extension": ".py",
   "mimetype": "text/x-python",
   "name": "python",
   "nbconvert_exporter": "python",
   "pygments_lexer": "ipython3",
   "version": "3.11.0"
  }
 },
 "nbformat": 4,
 "nbformat_minor": 5
}
